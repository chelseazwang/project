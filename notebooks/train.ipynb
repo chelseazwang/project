{
 "cells": [
  {
   "cell_type": "markdown",
   "id": "f8ccd657",
   "metadata": {},
   "source": [
    "# Section 3: Python & Hugging Face"
   ]
  },
  {
   "cell_type": "markdown",
   "id": "f0519d66",
   "metadata": {},
   "source": [
    "## Load the Dataset"
   ]
  },
  {
   "cell_type": "code",
   "execution_count": null,
   "id": "b186a873",
   "metadata": {},
   "outputs": [
    {
     "name": "stdout",
     "output_type": "stream",
     "text": [
      "Dataset loaded: 50 samples\n",
      "\n",
      "Label distribution:\n",
      " label  count\n",
      "     1     26\n",
      "     0     24\n",
      "\n",
      "First few rows:\n",
      "  note_id                                               text  label\n",
      "0   N2013  Patient reports flooding during menses since m...      1\n",
      "1   N2015  Patient reports heavy menses since stopping OC...      1\n",
      "2   N2022  Patient reports HMB for the past 6 months, des...      1\n"
     ]
    }
   ],
   "source": [
    "import pandas as pd\n",
    "\n",
    "df = pd.read_csv('../data/traininig-dataset.csv')\n",
    "\n",
    "print(f\"Dataset loaded: {len(df)} samples\")\n",
    "\n",
    "print(f\"\\nLabel distribution:\")\n",
    "label_counts = df['label'].value_counts().reset_index()\n",
    "label_counts.columns = ['label', 'count']\n",
    "print(label_counts.to_string(index=False))\n",
    "\n",
    "print(f\"\\nFirst few rows:\")\n",
    "print(df.head(3).to_string(index=False))"
   ]
  },
  {
   "cell_type": "markdown",
   "id": "ec2ae6d1",
   "metadata": {},
   "source": [
    "## Tokenize the Text Field"
   ]
  },
  {
   "cell_type": "markdown",
   "id": "2e2303f3",
   "metadata": {},
   "source": [
    "## Train a Small Classifier"
   ]
  }
 ],
 "metadata": {
  "kernelspec": {
   "display_name": "Python 3",
   "language": "python",
   "name": "python3"
  },
  "language_info": {
   "codemirror_mode": {
    "name": "ipython",
    "version": 3
   },
   "file_extension": ".py",
   "mimetype": "text/x-python",
   "name": "python",
   "nbconvert_exporter": "python",
   "pygments_lexer": "ipython3",
   "version": "3.13.3"
  }
 },
 "nbformat": 4,
 "nbformat_minor": 5
}

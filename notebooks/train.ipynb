{
 "cells": [
  {
   "cell_type": "markdown",
   "id": "f8ccd657",
   "metadata": {},
   "source": [
    "# Section 3: Python & Hugging Face"
   ]
  },
  {
   "cell_type": "markdown",
   "id": "f0519d66",
   "metadata": {},
   "source": [
    "## Load the Dataset"
   ]
  },
  {
   "cell_type": "code",
   "execution_count": 1,
   "id": "b186a873",
   "metadata": {},
   "outputs": [
    {
     "name": "stderr",
     "output_type": "stream",
     "text": [
      "/Users/Chelsea/anaconda3/lib/python3.11/site-packages/pandas/core/arrays/masked.py:60: UserWarning: Pandas requires version '1.3.6' or newer of 'bottleneck' (version '1.3.5' currently installed).\n",
      "  from pandas.core import (\n"
     ]
    },
    {
     "name": "stdout",
     "output_type": "stream",
     "text": [
      "Dataset loaded: 50 samples\n",
      "\n",
      "Label distribution:\n",
      " label  count\n",
      "     1     26\n",
      "     0     24\n",
      "\n",
      "First few rows:\n",
      "note_id                                                                                                                                                                                                                                                                                                                                                                                                          text  label\n",
      "  N2013 Patient reports flooding during menses since menarche, describing soaking a pad every 1–2 hours with episodes of 'flooding'. Associated symptoms include sleep disruption from overnight changes; iron studies pending. Relevant history: endometriosis history. Impact: requires planning around menses. Management discussed: discussed tranexamic acid; patient prefers non-hormonal options at this time.      1\n",
      "  N2015                                 Patient reports heavy menses since stopping OCPs, describing soaking a pad every 1–2 hours with episodes of 'flooding'. Associated symptoms include shortness of breath with stairs; TSH normal. Relevant history: menarche at age 12. Impact: requires planning around menses. Management discussed: copper IUD in place; patient prefers non-hormonal options at this time.      1\n",
      "  N2022                                              Patient reports HMB for the past 6 months, describing overnight pads used during daytime with episodes of 'flooding'. Associated symptoms include fatigue; hemoglobin borderline low. Relevant history: history of fibroids. Impact: requires planning around menses. Management discussed: considering OCPs; patient prefers non-hormonal options at this time.      1\n"
     ]
    }
   ],
   "source": [
    "import pandas as pd\n",
    "\n",
    "df = pd.read_csv('../data/traininig-dataset.csv')\n",
    "\n",
    "print(f\"Dataset loaded: {len(df)} samples\")\n",
    "\n",
    "print(f\"\\nLabel distribution:\")\n",
    "label_counts = df['label'].value_counts().reset_index()\n",
    "label_counts.columns = ['label', 'count']\n",
    "print(label_counts.to_string(index=False))\n",
    "\n",
    "print(f\"\\nFirst few rows:\")\n",
    "print(df.head(3).to_string(index=False))"
   ]
  },
  {
   "cell_type": "markdown",
   "id": "ec2ae6d1",
   "metadata": {},
   "source": [
    "## Tokenize the Text Field"
   ]
  },
  {
   "cell_type": "markdown",
   "id": "160fbda5",
   "metadata": {},
   "source": [
    "### Split into Train and Validation Sets"
   ]
  },
  {
   "cell_type": "code",
   "execution_count": 2,
   "id": "f0640c58",
   "metadata": {},
   "outputs": [
    {
     "name": "stdout",
     "output_type": "stream",
     "text": [
      "\n",
      "Train: 40 samples | Validation: 10 samples\n"
     ]
    }
   ],
   "source": [
    "from sklearn.model_selection import train_test_split\n",
    "\n",
    "train_df, val_df = train_test_split(df, test_size=0.2, random_state=42, stratify=df['label'])\n",
    "\n",
    "print(f\"\\nTrain: {len(train_df)} samples | Validation: {len(val_df)} samples\")"
   ]
  },
  {
   "cell_type": "markdown",
   "id": "a7085a26",
   "metadata": {},
   "source": [
    "### Load Tokenizer"
   ]
  },
  {
   "cell_type": "code",
   "execution_count": 3,
   "id": "df59f7d6",
   "metadata": {},
   "outputs": [
    {
     "data": {
      "application/vnd.jupyter.widget-view+json": {
       "model_id": "f0cbb2d80016427e8d4ceb97a3763bd5",
       "version_major": 2,
       "version_minor": 0
      },
      "text/plain": [
       "Downloading tokenizer_config.json:   0%|          | 0.00/48.0 [00:00<?, ?B/s]"
      ]
     },
     "metadata": {},
     "output_type": "display_data"
    },
    {
     "data": {
      "application/vnd.jupyter.widget-view+json": {
       "model_id": "3b951c1909884d68a03fd77218b7d127",
       "version_major": 2,
       "version_minor": 0
      },
      "text/plain": [
       "Downloading config.json:   0%|          | 0.00/483 [00:00<?, ?B/s]"
      ]
     },
     "metadata": {},
     "output_type": "display_data"
    },
    {
     "data": {
      "application/vnd.jupyter.widget-view+json": {
       "model_id": "0052100993c541698e67dbf35d86da7c",
       "version_major": 2,
       "version_minor": 0
      },
      "text/plain": [
       "Downloading vocab.txt:   0%|          | 0.00/232k [00:00<?, ?B/s]"
      ]
     },
     "metadata": {},
     "output_type": "display_data"
    },
    {
     "data": {
      "application/vnd.jupyter.widget-view+json": {
       "model_id": "c26f8ab40d4747c58bf65d44b337829c",
       "version_major": 2,
       "version_minor": 0
      },
      "text/plain": [
       "Downloading tokenizer.json:   0%|          | 0.00/466k [00:00<?, ?B/s]"
      ]
     },
     "metadata": {},
     "output_type": "display_data"
    }
   ],
   "source": [
    "from transformers import AutoTokenizer\n",
    "\n",
    "tokenizer = AutoTokenizer.from_pretrained('distilbert-base-uncased')"
   ]
  },
  {
   "cell_type": "markdown",
   "id": "d378630d",
   "metadata": {},
   "source": [
    "### Tokenization Function"
   ]
  },
  {
   "cell_type": "code",
   "execution_count": 4,
   "id": "fc6a78d1",
   "metadata": {},
   "outputs": [],
   "source": [
    "from datasets import Dataset\n",
    "\n",
    "def tokenize_function(examples):\n",
    "    return tokenizer(examples['text'], padding='max_length', truncation=True, max_length=128)"
   ]
  },
  {
   "cell_type": "markdown",
   "id": "05627ba3",
   "metadata": {},
   "source": [
    "### Convert to Hugging Face Datasets and Tokenize"
   ]
  },
  {
   "cell_type": "code",
   "execution_count": 5,
   "id": "3065c507",
   "metadata": {},
   "outputs": [
    {
     "data": {
      "application/vnd.jupyter.widget-view+json": {
       "model_id": "6db4e23302c64b6bbbbb473cf19f8369",
       "version_major": 2,
       "version_minor": 0
      },
      "text/plain": [
       "Map:   0%|          | 0/40 [00:00<?, ? examples/s]"
      ]
     },
     "metadata": {},
     "output_type": "display_data"
    },
    {
     "data": {
      "application/vnd.jupyter.widget-view+json": {
       "model_id": "6c438b5f1c2e471786d9f3ace022a5a5",
       "version_major": 2,
       "version_minor": 0
      },
      "text/plain": [
       "Map:   0%|          | 0/10 [00:00<?, ? examples/s]"
      ]
     },
     "metadata": {},
     "output_type": "display_data"
    },
    {
     "name": "stdout",
     "output_type": "stream",
     "text": [
      "\n",
      "Tokenization complete!\n"
     ]
    }
   ],
   "source": [
    "train_dataset = Dataset.from_pandas(train_df[['text', 'label']]).map(tokenize_function, batched=True)\n",
    "val_dataset = Dataset.from_pandas(val_df[['text', 'label']]).map(tokenize_function, batched=True)\n",
    "\n",
    "train_dataset.set_format('torch', columns=['input_ids', 'attention_mask', 'label'])\n",
    "val_dataset.set_format('torch', columns=['input_ids', 'attention_mask', 'label'])\n",
    "\n",
    "print(\"\\nTokenization complete!\")"
   ]
  },
  {
   "cell_type": "markdown",
   "id": "2e2303f3",
   "metadata": {},
   "source": [
    "## Train a Small Classifier"
   ]
  },
  {
   "cell_type": "code",
   "execution_count": null,
   "id": "9e2bfeca",
   "metadata": {},
   "outputs": [],
   "source": [
    "# Check tokenization on a sample text\n",
    "sample_text = train_df.iloc[0]['text']\n",
    "print(\"Original text:\")\n",
    "print(sample_text)\n",
    "print(\"\\n\" + \"=\"*50 + \"\\n\")\n",
    "\n",
    "# Tokenize the sample\n",
    "tokens = tokenizer(sample_text, padding='max_length', truncation=True, max_length=128)\n",
    "\n",
    "print(\"Tokenized output:\")\n",
    "print(f\"Input IDs (first 20): {tokens['input_ids'][:20]}\")\n",
    "print(f\"Attention mask (first 20): {tokens['attention_mask'][:20]}\")\n",
    "print(f\"\\nTotal length: {len(tokens['input_ids'])} tokens\")\n",
    "print(f\"Number of real tokens (non-padding): {sum(tokens['attention_mask'])}\")\n",
    "\n",
    "print(\"\\n\" + \"=\"*50 + \"\\n\")\n",
    "\n",
    "# Decode back to text to verify\n",
    "decoded_text = tokenizer.decode(tokens['input_ids'], skip_special_tokens=True)\n",
    "print(\"Decoded text (should match original):\")\n",
    "print(decoded_text)\n",
    "\n",
    "print(\"\\n\" + \"=\"*50 + \"\\n\")\n",
    "\n",
    "# Check a few individual tokens\n",
    "print(\"First 10 tokens decoded:\")\n",
    "for i in range(10):\n",
    "    token_id = tokens['input_ids'][i]\n",
    "    token_text = tokenizer.decode([token_id])\n",
    "    print(f\"  Token {i}: ID={token_id} → '{token_text}'\")"
   ]
  }
 ],
 "metadata": {
  "kernelspec": {
   "display_name": "base",
   "language": "python",
   "name": "python3"
  },
  "language_info": {
   "codemirror_mode": {
    "name": "ipython",
    "version": 3
   },
   "file_extension": ".py",
   "mimetype": "text/x-python",
   "name": "python",
   "nbconvert_exporter": "python",
   "pygments_lexer": "ipython3",
   "version": "3.11.4"
  }
 },
 "nbformat": 4,
 "nbformat_minor": 5
}
